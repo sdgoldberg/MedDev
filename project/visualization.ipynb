{
 "cells": [
  {
   "cell_type": "code",
   "execution_count": 6,
   "id": "8630063f-1475-4e1c-b115-80e6b2ac21da",
   "metadata": {},
   "outputs": [
    {
     "name": "stdout",
     "output_type": "stream",
     "text": [
      "Dash app running on http://127.0.0.1:8050/\n"
     ]
    },
    {
     "data": {
      "application/javascript": [
       "window.open('http://127.0.0.1:8050/')"
      ],
      "text/plain": [
       "<IPython.core.display.Javascript object>"
      ]
     },
     "metadata": {},
     "output_type": "display_data"
    }
   ],
   "source": [
    "from dash import Dash, html, dcc, callback, Output, Input\n",
    "import dash_bootstrap_components as dbc\n",
    "import plotly.express as px\n",
    "import pandas as pd\n",
    "\n",
    "scopes = [\"world\", \"europe\", \"asia\", \"africa\", \"north america\", \"south america\"]\n",
    "\n",
    "external_stylesheets = [dbc.themes.BOOTSTRAP]\n",
    "\n",
    "app = Dash(__name__, external_stylesheets=external_stylesheets)\n",
    "\n",
    "app.layout = html.Div(\n",
    "    [\n",
    "        dbc.Row(dbc.Col(html.H1(children='MedDev', style={'textAlign':'center'}))),\n",
    "    \n",
    "        dbc.Row(\n",
    "            [\n",
    "                dbc.Col(dcc.RangeSlider(0, 20, 1, value=[5, 15], id='year-range')),\n",
    "                dbc.Col(dcc.Dropdown(scopes, 'world', id='dropdown-selection'))\n",
    "            ]\n",
    "        ),\n",
    "        \n",
    "        dbc.Row(dbc.Col(dcc.Graph(id='manu-chart'))),\n",
    "        \n",
    "        dbc.Row(dbc.Col(dcc.Graph(id='imp-chart'))),\n",
    "        \n",
    "        dbc.Row(dbc.Col(dcc.Graph(id='device-time-chart'))),\n",
    "\n",
    "        dbc.Row(\n",
    "            [\n",
    "                dbc.Col(dcc.Graph(id='device-class-chart'), width=6),\n",
    "                dbc.Col(dcc.Graph(id='speciality-chart'), width=6)\n",
    "            ]\n",
    "        )\n",
    "    ]\n",
    ")\n",
    "\n",
    "if __name__ == '__main__':\n",
    "    app.run(jupyter_mode=\"tab\")\n"
   ]
  },
  {
   "cell_type": "code",
   "execution_count": null,
   "id": "32274462-0939-4210-a85a-23271843a007",
   "metadata": {},
   "outputs": [],
   "source": []
  }
 ],
 "metadata": {
  "kernelspec": {
   "display_name": "Python 3 (ipykernel)",
   "language": "python",
   "name": "python3"
  },
  "language_info": {
   "codemirror_mode": {
    "name": "ipython",
    "version": 3
   },
   "file_extension": ".py",
   "mimetype": "text/x-python",
   "name": "python",
   "nbconvert_exporter": "python",
   "pygments_lexer": "ipython3",
   "version": "3.10.11"
  }
 },
 "nbformat": 4,
 "nbformat_minor": 5
}
